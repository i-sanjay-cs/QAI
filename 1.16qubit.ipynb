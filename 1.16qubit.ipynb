{
 "cells": [
  {
   "cell_type": "code",
   "execution_count": 2,
   "id": "481d30f7",
   "metadata": {},
   "outputs": [],
   "source": [
    "from qiskit import QuantumRegister,ClassicalRegister,execute,Aer,QuantumCircuit\n",
    "from qiskit.tools.monitor import job_monitor"
   ]
  },
  {
   "cell_type": "code",
   "execution_count": 3,
   "id": "78207fba",
   "metadata": {},
   "outputs": [],
   "source": [
    "q = QuantumRegister(16,'q')\n",
    "c = ClassicalRegister(16,'c')"
   ]
  },
  {
   "cell_type": "code",
   "execution_count": 4,
   "id": "cd7cc8a6",
   "metadata": {},
   "outputs": [],
   "source": [
    "circuit = QuantumCircuit(q,c)"
   ]
  },
  {
   "cell_type": "code",
   "execution_count": 5,
   "id": "680b187c",
   "metadata": {},
   "outputs": [
    {
     "data": {
      "text/plain": [
       "<qiskit.circuit.instructionset.InstructionSet at 0x2a66ed18fa0>"
      ]
     },
     "execution_count": 5,
     "metadata": {},
     "output_type": "execute_result"
    }
   ],
   "source": [
    "circuit.h(q)"
   ]
  },
  {
   "cell_type": "code",
   "execution_count": 6,
   "id": "c1b56f1c",
   "metadata": {},
   "outputs": [
    {
     "data": {
      "text/plain": [
       "<qiskit.circuit.instructionset.InstructionSet at 0x2a66ed19960>"
      ]
     },
     "execution_count": 6,
     "metadata": {},
     "output_type": "execute_result"
    }
   ],
   "source": [
    "circuit.measure(q,c)"
   ]
  },
  {
   "cell_type": "code",
   "execution_count": 8,
   "id": "d1dba673",
   "metadata": {},
   "outputs": [],
   "source": [
    "backend = Aer.get_backend('qasm_simulator')"
   ]
  },
  {
   "cell_type": "code",
   "execution_count": 9,
   "id": "9366587a",
   "metadata": {},
   "outputs": [],
   "source": [
    "job = execute(circuit,backend,shots=1)"
   ]
  },
  {
   "cell_type": "code",
   "execution_count": 10,
   "id": "d8491ff1",
   "metadata": {},
   "outputs": [],
   "source": [
    "count = job.result().get_counts()"
   ]
  },
  {
   "cell_type": "code",
   "execution_count": 11,
   "id": "fe7089e4",
   "metadata": {},
   "outputs": [
    {
     "data": {
      "text/plain": [
       "{'0001110101100000': 1}"
      ]
     },
     "execution_count": 11,
     "metadata": {},
     "output_type": "execute_result"
    }
   ],
   "source": [
    "count"
   ]
  },
  {
   "cell_type": "code",
   "execution_count": 12,
   "id": "5cd80ae0",
   "metadata": {},
   "outputs": [],
   "source": [
    "decimal_number = int(list(count.keys())[0],2)"
   ]
  },
  {
   "cell_type": "code",
   "execution_count": 13,
   "id": "24bd8cb8",
   "metadata": {},
   "outputs": [
    {
     "data": {
      "text/plain": [
       "7520"
      ]
     },
     "execution_count": 13,
     "metadata": {},
     "output_type": "execute_result"
    }
   ],
   "source": [
    "decimal_number"
   ]
  },
  {
   "cell_type": "code",
   "execution_count": 17,
   "id": "b09ffce0",
   "metadata": {},
   "outputs": [],
   "source": [
    "binary_number = bin(decimal_number)[2:]"
   ]
  },
  {
   "cell_type": "code",
   "execution_count": 18,
   "id": "a9e0e2d3",
   "metadata": {},
   "outputs": [
    {
     "data": {
      "text/plain": [
       "'1110101100000'"
      ]
     },
     "execution_count": 18,
     "metadata": {},
     "output_type": "execute_result"
    }
   ],
   "source": [
    "binary_number"
   ]
  },
  {
   "cell_type": "code",
   "execution_count": 19,
   "id": "e718d1d4",
   "metadata": {},
   "outputs": [
    {
     "data": {
      "text/html": [
       "<pre style=\"word-wrap: normal;white-space: pre;background: #fff0;line-height: 1.1;font-family: &quot;Courier New&quot;,Courier,monospace\">      ┌───┐┌─┐                                             \n",
       " q_0: ┤ H ├┤M├─────────────────────────────────────────────\n",
       "      ├───┤└╥┘┌─┐                                          \n",
       " q_1: ┤ H ├─╫─┤M├──────────────────────────────────────────\n",
       "      ├───┤ ║ └╥┘┌─┐                                       \n",
       " q_2: ┤ H ├─╫──╫─┤M├───────────────────────────────────────\n",
       "      ├───┤ ║  ║ └╥┘┌─┐                                    \n",
       " q_3: ┤ H ├─╫──╫──╫─┤M├────────────────────────────────────\n",
       "      ├───┤ ║  ║  ║ └╥┘┌─┐                                 \n",
       " q_4: ┤ H ├─╫──╫──╫──╫─┤M├─────────────────────────────────\n",
       "      ├───┤ ║  ║  ║  ║ └╥┘┌─┐                              \n",
       " q_5: ┤ H ├─╫──╫──╫──╫──╫─┤M├──────────────────────────────\n",
       "      ├───┤ ║  ║  ║  ║  ║ └╥┘┌─┐                           \n",
       " q_6: ┤ H ├─╫──╫──╫──╫──╫──╫─┤M├───────────────────────────\n",
       "      ├───┤ ║  ║  ║  ║  ║  ║ └╥┘┌─┐                        \n",
       " q_7: ┤ H ├─╫──╫──╫──╫──╫──╫──╫─┤M├────────────────────────\n",
       "      ├───┤ ║  ║  ║  ║  ║  ║  ║ └╥┘┌─┐                     \n",
       " q_8: ┤ H ├─╫──╫──╫──╫──╫──╫──╫──╫─┤M├─────────────────────\n",
       "      ├───┤ ║  ║  ║  ║  ║  ║  ║  ║ └╥┘┌─┐                  \n",
       " q_9: ┤ H ├─╫──╫──╫──╫──╫──╫──╫──╫──╫─┤M├──────────────────\n",
       "      ├───┤ ║  ║  ║  ║  ║  ║  ║  ║  ║ └╥┘┌─┐               \n",
       "q_10: ┤ H ├─╫──╫──╫──╫──╫──╫──╫──╫──╫──╫─┤M├───────────────\n",
       "      ├───┤ ║  ║  ║  ║  ║  ║  ║  ║  ║  ║ └╥┘┌─┐            \n",
       "q_11: ┤ H ├─╫──╫──╫──╫──╫──╫──╫──╫──╫──╫──╫─┤M├────────────\n",
       "      ├───┤ ║  ║  ║  ║  ║  ║  ║  ║  ║  ║  ║ └╥┘┌─┐         \n",
       "q_12: ┤ H ├─╫──╫──╫──╫──╫──╫──╫──╫──╫──╫──╫──╫─┤M├─────────\n",
       "      ├───┤ ║  ║  ║  ║  ║  ║  ║  ║  ║  ║  ║  ║ └╥┘┌─┐      \n",
       "q_13: ┤ H ├─╫──╫──╫──╫──╫──╫──╫──╫──╫──╫──╫──╫──╫─┤M├──────\n",
       "      ├───┤ ║  ║  ║  ║  ║  ║  ║  ║  ║  ║  ║  ║  ║ └╥┘┌─┐   \n",
       "q_14: ┤ H ├─╫──╫──╫──╫──╫──╫──╫──╫──╫──╫──╫──╫──╫──╫─┤M├───\n",
       "      ├───┤ ║  ║  ║  ║  ║  ║  ║  ║  ║  ║  ║  ║  ║  ║ └╥┘┌─┐\n",
       "q_15: ┤ H ├─╫──╫──╫──╫──╫──╫──╫──╫──╫──╫──╫──╫──╫──╫──╫─┤M├\n",
       "      └───┘ ║  ║  ║  ║  ║  ║  ║  ║  ║  ║  ║  ║  ║  ║  ║ └╥┘\n",
       "c: 16/══════╩══╩══╩══╩══╩══╩══╩══╩══╩══╩══╩══╩══╩══╩══╩══╩═\n",
       "            0  1  2  3  4  5  6  7  8  9  10 11 12 13 14 15</pre>"
      ],
      "text/plain": [
       "      ┌───┐┌─┐                                             \n",
       " q_0: ┤ H ├┤M├─────────────────────────────────────────────\n",
       "      ├───┤└╥┘┌─┐                                          \n",
       " q_1: ┤ H ├─╫─┤M├──────────────────────────────────────────\n",
       "      ├───┤ ║ └╥┘┌─┐                                       \n",
       " q_2: ┤ H ├─╫──╫─┤M├───────────────────────────────────────\n",
       "      ├───┤ ║  ║ └╥┘┌─┐                                    \n",
       " q_3: ┤ H ├─╫──╫──╫─┤M├────────────────────────────────────\n",
       "      ├───┤ ║  ║  ║ └╥┘┌─┐                                 \n",
       " q_4: ┤ H ├─╫──╫──╫──╫─┤M├─────────────────────────────────\n",
       "      ├───┤ ║  ║  ║  ║ └╥┘┌─┐                              \n",
       " q_5: ┤ H ├─╫──╫──╫──╫──╫─┤M├──────────────────────────────\n",
       "      ├───┤ ║  ║  ║  ║  ║ └╥┘┌─┐                           \n",
       " q_6: ┤ H ├─╫──╫──╫──╫──╫──╫─┤M├───────────────────────────\n",
       "      ├───┤ ║  ║  ║  ║  ║  ║ └╥┘┌─┐                        \n",
       " q_7: ┤ H ├─╫──╫──╫──╫──╫──╫──╫─┤M├────────────────────────\n",
       "      ├───┤ ║  ║  ║  ║  ║  ║  ║ └╥┘┌─┐                     \n",
       " q_8: ┤ H ├─╫──╫──╫──╫──╫──╫──╫──╫─┤M├─────────────────────\n",
       "      ├───┤ ║  ║  ║  ║  ║  ║  ║  ║ └╥┘┌─┐                  \n",
       " q_9: ┤ H ├─╫──╫──╫──╫──╫──╫──╫──╫──╫─┤M├──────────────────\n",
       "      ├───┤ ║  ║  ║  ║  ║  ║  ║  ║  ║ └╥┘┌─┐               \n",
       "q_10: ┤ H ├─╫──╫──╫──╫──╫──╫──╫──╫──╫──╫─┤M├───────────────\n",
       "      ├───┤ ║  ║  ║  ║  ║  ║  ║  ║  ║  ║ └╥┘┌─┐            \n",
       "q_11: ┤ H ├─╫──╫──╫──╫──╫──╫──╫──╫──╫──╫──╫─┤M├────────────\n",
       "      ├───┤ ║  ║  ║  ║  ║  ║  ║  ║  ║  ║  ║ └╥┘┌─┐         \n",
       "q_12: ┤ H ├─╫──╫──╫──╫──╫──╫──╫──╫──╫──╫──╫──╫─┤M├─────────\n",
       "      ├───┤ ║  ║  ║  ║  ║  ║  ║  ║  ║  ║  ║  ║ └╥┘┌─┐      \n",
       "q_13: ┤ H ├─╫──╫──╫──╫──╫──╫──╫──╫──╫──╫──╫──╫──╫─┤M├──────\n",
       "      ├───┤ ║  ║  ║  ║  ║  ║  ║  ║  ║  ║  ║  ║  ║ └╥┘┌─┐   \n",
       "q_14: ┤ H ├─╫──╫──╫──╫──╫──╫──╫──╫──╫──╫──╫──╫──╫──╫─┤M├───\n",
       "      ├───┤ ║  ║  ║  ║  ║  ║  ║  ║  ║  ║  ║  ║  ║  ║ └╥┘┌─┐\n",
       "q_15: ┤ H ├─╫──╫──╫──╫──╫──╫──╫──╫──╫──╫──╫──╫──╫──╫──╫─┤M├\n",
       "      └───┘ ║  ║  ║  ║  ║  ║  ║  ║  ║  ║  ║  ║  ║  ║  ║ └╥┘\n",
       "c: 16/══════╩══╩══╩══╩══╩══╩══╩══╩══╩══╩══╩══╩══╩══╩══╩══╩═\n",
       "            0  1  2  3  4  5  6  7  8  9  10 11 12 13 14 15"
      ]
     },
     "execution_count": 19,
     "metadata": {},
     "output_type": "execute_result"
    }
   ],
   "source": [
    "circuit.draw()"
   ]
  },
  {
   "cell_type": "code",
   "execution_count": null,
   "id": "25a4dfc8",
   "metadata": {},
   "outputs": [],
   "source": []
  }
 ],
 "metadata": {
  "kernelspec": {
   "display_name": "Python 3 (ipykernel)",
   "language": "python",
   "name": "python3"
  },
  "language_info": {
   "codemirror_mode": {
    "name": "ipython",
    "version": 3
   },
   "file_extension": ".py",
   "mimetype": "text/x-python",
   "name": "python",
   "nbconvert_exporter": "python",
   "pygments_lexer": "ipython3",
   "version": "3.11.5"
  }
 },
 "nbformat": 4,
 "nbformat_minor": 5
}
