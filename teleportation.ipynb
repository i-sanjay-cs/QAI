{
 "cells": [
  {
   "cell_type": "code",
   "execution_count": 1,
   "id": "41f82069",
   "metadata": {},
   "outputs": [],
   "source": [
    "from qiskit import ClassicalRegister,QuantumRegister,Aer,execute,QuantumCircuit\n",
    "from qiskit.visualization import plot_histogram"
   ]
  },
  {
   "cell_type": "code",
   "execution_count": 2,
   "id": "31ef7942",
   "metadata": {},
   "outputs": [],
   "source": [
    "q = QuantumRegister(3,'q')\n",
    "c = ClassicalRegister(3,'c')\n",
    "qc = QuantumCircuit(q,c)"
   ]
  },
  {
   "cell_type": "code",
   "execution_count": 3,
   "id": "be5d5c73",
   "metadata": {},
   "outputs": [
    {
     "data": {
      "text/plain": [
       "<qiskit.circuit.instructionset.InstructionSet at 0x17ce3904fd0>"
      ]
     },
     "execution_count": 3,
     "metadata": {},
     "output_type": "execute_result"
    }
   ],
   "source": [
    "initial_state = [0,1]\n",
    "qc.initialize(initial_state,0)"
   ]
  },
  {
   "cell_type": "code",
   "execution_count": 4,
   "id": "4673ef46",
   "metadata": {},
   "outputs": [
    {
     "data": {
      "text/plain": [
       "<qiskit.circuit.instructionset.InstructionSet at 0x17ce3905600>"
      ]
     },
     "execution_count": 4,
     "metadata": {},
     "output_type": "execute_result"
    }
   ],
   "source": [
    "# Create entangled qubits\n",
    "qc.h(1)\n",
    "qc.cx(1, 2)"
   ]
  },
  {
   "cell_type": "code",
   "execution_count": 5,
   "id": "eaaea3c2",
   "metadata": {},
   "outputs": [
    {
     "data": {
      "text/plain": [
       "<qiskit.circuit.instructionset.InstructionSet at 0x17ce3905240>"
      ]
     },
     "execution_count": 5,
     "metadata": {},
     "output_type": "execute_result"
    }
   ],
   "source": [
    "# Perform a Bell measurement\n",
    "qc.cx(0, 1)\n",
    "qc.h(0)\n",
    "qc.barrier()\n",
    "qc.measure([0, 1], [0, 1])"
   ]
  },
  {
   "cell_type": "code",
   "execution_count": 6,
   "id": "d79835e2",
   "metadata": {},
   "outputs": [
    {
     "data": {
      "text/plain": [
       "<qiskit.circuit.instructionset.InstructionSet at 0x17ce39058a0>"
      ]
     },
     "execution_count": 6,
     "metadata": {},
     "output_type": "execute_result"
    }
   ],
   "source": [
    "# Apply Pauli-X and Pauli-Z gates based on the measurement results\n",
    "qc.z(2).c_if(0, 1)\n",
    "qc.x(2).c_if(1, 1)"
   ]
  },
  {
   "cell_type": "code",
   "execution_count": 7,
   "id": "db800285",
   "metadata": {},
   "outputs": [
    {
     "data": {
      "text/plain": [
       "<qiskit.circuit.instructionset.InstructionSet at 0x17ce3905ab0>"
      ]
     },
     "execution_count": 7,
     "metadata": {},
     "output_type": "execute_result"
    }
   ],
   "source": [
    "# Measure the final qubit\n",
    "qc.measure(2, 2)"
   ]
  },
  {
   "cell_type": "code",
   "execution_count": 8,
   "id": "75607941",
   "metadata": {},
   "outputs": [],
   "source": [
    "# Simulate the quantum circuit\n",
    "simulator = Aer.get_backend('qasm_simulator')\n",
    "job = execute(qc, simulator, shots=1024)\n",
    "result = job.result()\n",
    "counts = result.get_counts()"
   ]
  },
  {
   "cell_type": "code",
   "execution_count": 9,
   "id": "ca1c6414",
   "metadata": {},
   "outputs": [
    {
     "data": {
      "image/png": "[encoded data removed]",
      "text/plain": [
       "<Figure size 700x500 with 1 Axes>"
      ]
     },
     "execution_count": 9,
     "metadata": {},
     "output_type": "execute_result"
    }
   ],
   "source": [
    "# Display the measurement results\n",
    "plot_histogram(counts)"
   ]
  },
  {
   "cell_type": "code",
   "execution_count": 10,
   "id": "d8d918dd",
   "metadata": {},
   "outputs": [
    {
     "data": {
      "text/html": [
       "<pre style=\"word-wrap: normal;white-space: pre;background: #fff0;line-height: 1.1;font-family: &quot;Courier New&quot;,Courier,monospace\">     ┌─────────────────┐          ┌───┐ ░ ┌─┐                            \n",
       "q_0: ┤ Initialize(0,1) ├───────■──┤ H ├─░─┤M├────────────────────────────\n",
       "     └──────┬───┬──────┘     ┌─┴─┐└───┘ ░ └╥┘┌─┐                         \n",
       "q_1: ───────┤ H ├─────────■──┤ X ├──────░──╫─┤M├─────────────────────────\n",
       "            └───┘       ┌─┴─┐└───┘      ░  ║ └╥┘   ┌───┐      ┌───┐   ┌─┐\n",
       "q_2: ───────────────────┤ X ├───────────░──╫──╫────┤ Z ├──────┤ X ├───┤M├\n",
       "                        └───┘           ░  ║  ║    └─╥─┘      └─╥─┘   └╥┘\n",
       "                                           ║  ║ ┌────╨────┐┌────╨────┐ ║ \n",
       "c: 3/══════════════════════════════════════╩══╩═╡ c_0=0x1 ╞╡ c_1=0x1 ╞═╩═\n",
       "                                           0  1 └─────────┘└─────────┘ 2 </pre>"
      ],
      "text/plain": [
       "     ┌─────────────────┐          ┌───┐ ░ ┌─┐                            \n",
       "q_0: ┤ Initialize(0,1) ├───────■──┤ H ├─░─┤M├────────────────────────────\n",
       "     └──────┬───┬──────┘     ┌─┴─┐└───┘ ░ └╥┘┌─┐                         \n",
       "q_1: ───────┤ H ├─────────■──┤ X ├──────░──╫─┤M├─────────────────────────\n",
       "            └───┘       ┌─┴─┐└───┘      ░  ║ └╥┘   ┌───┐      ┌───┐   ┌─┐\n",
       "q_2: ───────────────────┤ X ├───────────░──╫──╫────┤ Z ├──────┤ X ├───┤M├\n",
       "                        └───┘           ░  ║  ║    └─╥─┘      └─╥─┘   └╥┘\n",
       "                                           ║  ║ ┌────╨────┐┌────╨────┐ ║ \n",
       "c: 3/══════════════════════════════════════╩══╩═╡ c_0=0x1 ╞╡ c_1=0x1 ╞═╩═\n",
       "                                           0  1 └─────────┘└─────────┘ 2 "
      ]
     },
     "execution_count": 10,
     "metadata": {},
     "output_type": "execute_result"
    }
   ],
   "source": [
    "qc.draw()"
   ]
  },
  {
   "cell_type": "code",
   "execution_count": null,
   "id": "c7171ffb",
   "metadata": {},
   "outputs": [],
   "source": []
  }
 ],
 "metadata": {
  "kernelspec": {
   "display_name": "Python 3 (ipykernel)",
   "language": "python",
   "name": "python3"
  },
  "language_info": {
   "codemirror_mode": {
    "name": "ipython",
    "version": 3
   },
   "file_extension": ".py",
   "mimetype": "text/x-python",
   "name": "python",
   "nbconvert_exporter": "python",
   "pygments_lexer": "ipython3",
   "version": "3.11.5"
  }
 },
 "nbformat": 4,
 "nbformat_minor": 5
}
