{
 "cells": [
  {
   "cell_type": "code",
   "execution_count": 22,
   "id": "6e91e29f",
   "metadata": {},
   "outputs": [],
   "source": [
    "from qiskit import QuantumRegister,ClassicalRegister,QuantumCircuit,execute,Aer,assemble\n",
    "from qiskit.ignis.mitigation.measurement import CompleteMeasFitter,complete_meas_cal"
   ]
  },
  {
   "cell_type": "code",
   "execution_count": 11,
   "id": "fb9803e0",
   "metadata": {},
   "outputs": [],
   "source": [
    "q = QuantumRegister(3,'q')\n",
    "c = ClassicalRegister(3,'c')"
   ]
  },
  {
   "cell_type": "code",
   "execution_count": 12,
   "id": "ffa921fd",
   "metadata": {},
   "outputs": [],
   "source": [
    "circuit = QuantumCircuit(q,c)"
   ]
  },
  {
   "cell_type": "code",
   "execution_count": 13,
   "id": "63acae18",
   "metadata": {},
   "outputs": [
    {
     "data": {
      "text/plain": [
       "<qiskit.circuit.instructionset.InstructionSet at 0x1c2c8c25f60>"
      ]
     },
     "execution_count": 13,
     "metadata": {},
     "output_type": "execute_result"
    }
   ],
   "source": [
    "circuit.h(0)\n",
    "circuit.cx(0,1)\n",
    "circuit.cx(0,2)\n",
    "circuit.measure([0,1,2],[0,1,2])"
   ]
  },
  {
   "cell_type": "code",
   "execution_count": 14,
   "id": "6198ac95",
   "metadata": {},
   "outputs": [],
   "source": [
    "backend = Aer.get_backend('qasm_simulator')"
   ]
  },
  {
   "cell_type": "code",
   "execution_count": 15,
   "id": "e5d5f878",
   "metadata": {},
   "outputs": [],
   "source": [
    "job = execute(circuit,backend,shots=1000)\n",
    "counts = job.result().get_counts()"
   ]
  },
  {
   "cell_type": "code",
   "execution_count": 16,
   "id": "a436fd99",
   "metadata": {},
   "outputs": [
    {
     "data": {
      "text/plain": [
       "{'000': 503, '111': 497}"
      ]
     },
     "execution_count": 16,
     "metadata": {},
     "output_type": "execute_result"
    }
   ],
   "source": [
    "counts"
   ]
  },
  {
   "cell_type": "code",
   "execution_count": 17,
   "id": "0c5a4010",
   "metadata": {},
   "outputs": [
    {
     "data": {
      "text/html": [
       "<pre style=\"word-wrap: normal;white-space: pre;background: #fff0;line-height: 1.1;font-family: &quot;Courier New&quot;,Courier,monospace\">     ┌───┐             ┌─┐   \n",
       "q_0: ┤ H ├──■────■─────┤M├───\n",
       "     └───┘┌─┴─┐  │  ┌─┐└╥┘   \n",
       "q_1: ─────┤ X ├──┼──┤M├─╫────\n",
       "          └───┘┌─┴─┐└╥┘ ║ ┌─┐\n",
       "q_2: ──────────┤ X ├─╫──╫─┤M├\n",
       "               └───┘ ║  ║ └╥┘\n",
       "c: 3/════════════════╩══╩══╩═\n",
       "                     1  0  2 </pre>"
      ],
      "text/plain": [
       "     ┌───┐             ┌─┐   \n",
       "q_0: ┤ H ├──■────■─────┤M├───\n",
       "     └───┘┌─┴─┐  │  ┌─┐└╥┘   \n",
       "q_1: ─────┤ X ├──┼──┤M├─╫────\n",
       "          └───┘┌─┴─┐└╥┘ ║ ┌─┐\n",
       "q_2: ──────────┤ X ├─╫──╫─┤M├\n",
       "               └───┘ ║  ║ └╥┘\n",
       "c: 3/════════════════╩══╩══╩═\n",
       "                     1  0  2 "
      ]
     },
     "execution_count": 17,
     "metadata": {},
     "output_type": "execute_result"
    }
   ],
   "source": [
    "circuit.draw()"
   ]
  },
  {
   "cell_type": "code",
   "execution_count": 19,
   "id": "5b2a30dc",
   "metadata": {},
   "outputs": [],
   "source": [
    "qubit_list = [0,1,2]\n",
    "calibaration_circuit,state_labels = complete_meas_cal(qubit_list=qubit_list)"
   ]
  },
  {
   "cell_type": "code",
   "execution_count": 23,
   "id": "a4cea525",
   "metadata": {},
   "outputs": [],
   "source": [
    "compiled_calibaration = assemble(calibaration_circuit)"
   ]
  },
  {
   "cell_type": "code",
   "execution_count": 26,
   "id": "65856b48",
   "metadata": {},
   "outputs": [
    {
     "name": "stderr",
     "output_type": "stream",
     "text": [
      "C:\\Users\\sanja\\AppData\\Local\\Temp\\ipykernel_3392\\3958707050.py:1: DeprecationWarning: Using a qobj for run() is deprecated as of qiskit-aer 0.9.0 and will be removed no sooner than 3 months from that release date. Transpiled circuits should now be passed directly using `backend.run(circuits, **run_options).\n",
      "  cal_job = backend.run(compiled_calibaration,shots=1000)\n"
     ]
    }
   ],
   "source": [
    "cal_job = backend.run(compiled_calibaration,shots=1000)\n",
    "cal_result = cal_job.result()"
   ]
  },
  {
   "cell_type": "code",
   "execution_count": 30,
   "id": "d928f188",
   "metadata": {},
   "outputs": [],
   "source": [
    "meas_fitter = CompleteMeasFitter(cal_result,state_labels)\n",
    "mitigated_counts = meas_fitter.filter.apply(counts)"
   ]
  },
  {
   "cell_type": "code",
   "execution_count": 32,
   "id": "0d84c7c7",
   "metadata": {},
   "outputs": [
    {
     "name": "stdout",
     "output_type": "stream",
     "text": [
      "Original Count: {'000': 503, '111': 497}\n"
     ]
    }
   ],
   "source": [
    "print('Original Count:',counts)"
   ]
  },
  {
   "cell_type": "code",
   "execution_count": 33,
   "id": "4f625098",
   "metadata": {},
   "outputs": [
    {
     "name": "stdout",
     "output_type": "stream",
     "text": [
      "Mitigated Count: {'000': 502.99999982927636, '101': 1.1103854631544175e-16, '110': 1.1103854631544175e-16, '111': 497.0000001791843}\n"
     ]
    }
   ],
   "source": [
    "print('Mitigated Count:',mitigated_counts)"
   ]
  },
  {
   "cell_type": "code",
   "execution_count": 48,
   "id": "811d13aa",
   "metadata": {},
   "outputs": [
    {
     "name": "stderr",
     "output_type": "stream",
     "text": [
      "C:\\Users\\sanja\\AppData\\Local\\Temp\\ipykernel_3392\\2320434104.py:2: DeprecationWarning: Using a qobj for run() is deprecated as of qiskit-aer 0.9.0 and will be removed no sooner than 3 months from that release date. Transpiled circuits should now be passed directly using `backend.run(circuits, **run_options).\n",
      "  cal_job = backend.run(compiled_calibaration, shots=1)\n"
     ]
    }
   ],
   "source": [
    "# Run the calibration circuit and get the results\n",
    "cal_job = backend.run(compiled_calibaration, shots=1)\n",
    "cal_result = cal_job.result()\n",
    "\n",
    "# Create a CompleteMeasFitter using the calibration data\n",
    "meas_fitter = CompleteMeasFitter(cal_result, state_labels)\n",
    "\n",
    "# Mitigate the measurement error in the original counts\n",
    "mitigated_counts = meas_fitter.filter.apply(counts)\n"
   ]
  },
  {
   "cell_type": "code",
   "execution_count": 52,
   "id": "fdc77776",
   "metadata": {
    "scrolled": true
   },
   "outputs": [
    {
     "data": {
      "image/png": "[encoded data removed]",
      "text/plain": [
       "<Figure size 700x500 with 1 Axes>"
      ]
     },
     "execution_count": 52,
     "metadata": {},
     "output_type": "execute_result"
    }
   ],
   "source": [
    "from qiskit.visualization import plot_histogram\n",
    "plot_histogram(counts)\n",
    "plot_histogram([counts,mitigated_counts], title=\"Original Counts vs Mitigated Counts\")\n"
   ]
  },
  {
   "cell_type": "code",
   "execution_count": null,
   "id": "f2786889",
   "metadata": {},
   "outputs": [],
   "source": []
  }
 ],
 "metadata": {
  "kernelspec": {
   "display_name": "Python 3 (ipykernel)",
   "language": "python",
   "name": "python3"
  },
  "language_info": {
   "codemirror_mode": {
    "name": "ipython",
    "version": 3
   },
   "file_extension": ".py",
   "mimetype": "text/x-python",
   "name": "python",
   "nbconvert_exporter": "python",
   "pygments_lexer": "ipython3",
   "version": "3.11.5"
  }
 },
 "nbformat": 4,
 "nbformat_minor": 5
}
